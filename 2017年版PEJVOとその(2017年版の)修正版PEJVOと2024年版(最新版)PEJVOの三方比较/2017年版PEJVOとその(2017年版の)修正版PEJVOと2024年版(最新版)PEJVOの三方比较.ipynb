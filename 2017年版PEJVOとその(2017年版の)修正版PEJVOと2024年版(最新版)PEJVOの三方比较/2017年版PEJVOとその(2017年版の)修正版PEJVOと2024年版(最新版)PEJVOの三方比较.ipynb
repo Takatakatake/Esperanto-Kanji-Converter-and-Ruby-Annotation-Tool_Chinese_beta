{
 "cells": [
  {
   "cell_type": "code",
   "execution_count": 1,
   "metadata": {},
   "outputs": [
    {
     "name": "stdout",
     "output_type": "stream",
     "text": [
      "新規追加行数: 2271 行\n"
     ]
    }
   ],
   "source": [
    "from difflib import SequenceMatcher\n",
    "\n",
    "def find_new_lines_precisely(old_file, new_file):\n",
    "    # ファイルを読み込み、行ごとにトリムしてリスト化\n",
    "    with open(old_file, 'r', encoding='utf-8') as f:\n",
    "        old_lines = [line.strip() for line in f.readlines()]\n",
    "    with open(new_file, 'r', encoding='utf-8') as f:\n",
    "        new_lines = [line.strip() for line in f.readlines()]\n",
    "    \n",
    "    # 差分検出用のセットを作成\n",
    "    old_set = set(old_lines)\n",
    "    new_set = set(new_lines)\n",
    "    \n",
    "    # 新規追加された行を特定\n",
    "    added_lines = list(new_set - old_set)\n",
    "    \n",
    "    # アルファベット順にソートして返す\n",
    "    added_lines.sort()\n",
    "    return added_lines\n",
    "\n",
    "# ファイルパス\n",
    "old_file = '世界语全部单词列表_约44100个(原pejvo.txt)_utf8化_原版.txt'\n",
    "new_file = 'PEJVO_utf8化_2024年_最新版_原版.txt'\n",
    "\n",
    "# 新規追加行を取得\n",
    "new_lines = find_new_lines_precisely(old_file, new_file)\n",
    "\n",
    "# 結果を保存\n",
    "with open('2017年版PEJVOと2024年版(最新版)PEJVOの比較.txt', 'w', encoding='utf-8') as f:\n",
    "    f.writelines(line + '\\n' for line in new_lines)\n",
    "\n",
    "print(f\"新規追加行数: {len(new_lines)} 行\")"
   ]
  },
  {
   "cell_type": "code",
   "execution_count": null,
   "metadata": {},
   "outputs": [],
   "source": [
    "from difflib import SequenceMatcher\n",
    "\n",
    "def find_new_lines_precisely(old_file, new_file):\n",
    "    # ファイルを読み込み、行ごとにトリムしてリスト化\n",
    "    with open(old_file, 'r', encoding='utf-8') as f:\n",
    "        old_lines = [line.strip() for line in f.readlines()]\n",
    "    with open(new_file, 'r', encoding='utf-8') as f:\n",
    "        new_lines = [line.strip() for line in f.readlines()]\n",
    "    \n",
    "    # 差分検出用のセットを作成\n",
    "    old_set = set(old_lines)\n",
    "    new_set = set(new_lines)\n",
    "    \n",
    "    # 新規追加された行を特定\n",
    "    added_lines = list(new_set - old_set)\n",
    "    \n",
    "    # アルファベット順にソートして返す\n",
    "    added_lines.sort()\n",
    "    return added_lines\n",
    "\n",
    "# ファイルパス\n",
    "old_file = '世界语全部单词列表_约44100个(原pejvo.txt)_utf8化_原版.txt'\n",
    "new_file = '世界语全部单词列表_约44100个(原pejvo.txt)_utf8化_第二部分以後中心に修正_更に修正_最终版202412.txt'\n",
    "\n",
    "# 新規追加行を取得\n",
    "new_lines = find_new_lines_precisely(old_file, new_file)\n",
    "\n",
    "# 結果を保存\n",
    "with open('2017年版PEJVOとその修正版PEJVOの比較.txt', 'w', encoding='utf-8') as f:\n",
    "    f.writelines(line + '\\n' for line in new_lines)\n",
    "\n",
    "print(f\"新規追加行数: {len(new_lines)} 行\")"
   ]
  }
 ],
 "metadata": {
  "kernelspec": {
   "display_name": "base",
   "language": "python",
   "name": "python3"
  },
  "language_info": {
   "codemirror_mode": {
    "name": "ipython",
    "version": 3
   },
   "file_extension": ".py",
   "mimetype": "text/x-python",
   "name": "python",
   "nbconvert_exporter": "python",
   "pygments_lexer": "ipython3",
   "version": "3.8.18"
  }
 },
 "nbformat": 4,
 "nbformat_minor": 2
}
