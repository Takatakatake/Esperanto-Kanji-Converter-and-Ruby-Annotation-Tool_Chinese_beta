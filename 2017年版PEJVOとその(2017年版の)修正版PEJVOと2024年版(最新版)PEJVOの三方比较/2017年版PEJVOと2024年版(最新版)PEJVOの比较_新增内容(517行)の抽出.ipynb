{
 "cells": [
  {
   "cell_type": "code",
   "execution_count": null,
   "metadata": {},
   "outputs": [
    {
     "name": "stdout",
     "output_type": "stream",
     "text": [
      "新規追加行数: 795 行\n"
     ]
    }
   ],
   "source": [
    "from difflib import SequenceMatcher\n",
    "\n",
    "def find_precisely_added_lines(old_file, new_file, similarity_threshold=0.8):\n",
    "    # ファイルを読み込み、行ごとにトリムしてリスト化\n",
    "    with open(old_file, 'r', encoding='utf-8') as f:\n",
    "        old_lines = [line.strip() for line in f.readlines()]\n",
    "    with open(new_file, 'r', encoding='utf-8') as f:\n",
    "        new_lines = [line.strip() for line in f.readlines()]\n",
    "    \n",
    "    # 新規追加行を保持するリスト\n",
    "    added_lines = []\n",
    "    \n",
    "    # 既存の行の中で、類似度を計算してマッチングする\n",
    "    for new_line in new_lines:\n",
    "        is_new = True  # 初期値: 新規行であると仮定\n",
    "        for old_line in old_lines:\n",
    "            # 類似度を計算\n",
    "            similarity = SequenceMatcher(None, new_line, old_line).ratio()\n",
    "            if similarity >= similarity_threshold:\n",
    "                is_new = False  # 類似度が閾値以上の場合は新規行ではない\n",
    "                break\n",
    "        if is_new:\n",
    "            added_lines.append(new_line)\n",
    "    \n",
    "    # アルファベット順にソートして返す\n",
    "    added_lines.sort()\n",
    "    return added_lines\n",
    "\n",
    "# ファイルパス\n",
    "old_file = '2017年版PEJVOと2024年版(最新版)PEJVOの逆向比较.txt'\n",
    "new_file = '2017年版PEJVOと2024年版(最新版)PEJVOの比较.txt'\n",
    "\n",
    "# 閾値を設定して新規追加行を取得\n",
    "new_lines = find_precisely_added_lines(old_file, new_file, similarity_threshold=0.8)\n",
    "\n",
    "# 結果を保存\n",
    "with open('_2017年版PEJVOと2024年版(最新版)PEJVOの新增内容比较結果_類似度0.8.txt', 'w', encoding='utf-8') as f:\n",
    "    f.writelines(line + '\\n' for line in new_lines)\n",
    "\n",
    "print(f\"新規追加行数: {len(new_lines)} 行\")\n"
   ]
  },
  {
   "cell_type": "code",
   "execution_count": null,
   "metadata": {},
   "outputs": [
    {
     "name": "stdout",
     "output_type": "stream",
     "text": [
      "586\n"
     ]
    }
   ],
   "source": [
    "from difflib import SequenceMatcher\n",
    "\n",
    "with open('2017年版PEJVOと2024年版(最新版)PEJVOの逆向比较.txt', 'r', encoding='utf-8') as f:\n",
    "    old_lines = [l.rstrip('\\n') for l in f]\n",
    "with open('2017年版PEJVOと2024年版(最新版)PEJVOの比较.txt', 'r', encoding='utf-8') as f:\n",
    "    new_lines = [l.rstrip('\\n') for l in f]\n",
    "\n",
    "matcher = SequenceMatcher(None, old_lines, new_lines)\n",
    "opcodes = matcher.get_opcodes()\n",
    "\n",
    "inserted_lines = []\n",
    "suspected_new_lines = []  # replaceブロックから新規行らしいものを抽出\n",
    "\n",
    "for tag, i1, i2, j1, j2 in opcodes:\n",
    "    if tag == 'insert':\n",
    "        # これらは純粋な挿入行と考えられる可能性が高い\n",
    "        inserted_lines.extend(new_lines[j1:j2])\n",
    "    elif tag == 'replace':\n",
    "        old_block = old_lines[i1:i2]\n",
    "        new_block = new_lines[j1:j2]\n",
    "        # 各new_block行について、old_block行との類似度計算\n",
    "        for nl in new_block:\n",
    "            best_similarity = 0\n",
    "            for ol in old_block:\n",
    "                sim = SequenceMatcher(None, nl, ol).ratio()\n",
    "                if sim > best_similarity:\n",
    "                    best_similarity = sim\n",
    "            # 類似度が低ければ新規行と判断\n",
    "            if best_similarity < 0.7:  # 例: 0.7という閾値\n",
    "                suspected_new_lines.append(nl)\n",
    "\n",
    "# 最終的な新規行候補 = inserted_lines + suspected_new_lines\n",
    "final_new_lines = inserted_lines + suspected_new_lines\n",
    "final_new_lines.sort()\n",
    "\n",
    "with open('_2017年版PEJVOと2024年版(最新版)PEJVOの新增内容比较結果_類似度0.7.txt', 'w', encoding='utf-8') as f:\n",
    "    for line in final_new_lines:\n",
    "        f.write(line + '\\n')\n",
    "\n",
    "print(len(final_new_lines))\n"
   ]
  },
  {
   "cell_type": "code",
   "execution_count": null,
   "metadata": {},
   "outputs": [
    {
     "name": "stdout",
     "output_type": "stream",
     "text": [
      "418\n"
     ]
    }
   ],
   "source": [
    "from difflib import SequenceMatcher\n",
    "\n",
    "with open('2017年版PEJVOと2024年版(最新版)PEJVOの逆向比较.txt', 'r', encoding='utf-8') as f:\n",
    "    old_lines = [l.rstrip('\\n') for l in f]\n",
    "with open('2017年版PEJVOと2024年版(最新版)PEJVOの比较.txt', 'r', encoding='utf-8') as f:\n",
    "    new_lines = [l.rstrip('\\n') for l in f]\n",
    "\n",
    "matcher = SequenceMatcher(None, old_lines, new_lines)\n",
    "opcodes = matcher.get_opcodes()\n",
    "\n",
    "inserted_lines = []\n",
    "suspected_new_lines = []  # replaceブロックから新規行らしいものを抽出\n",
    "\n",
    "for tag, i1, i2, j1, j2 in opcodes:\n",
    "    if tag == 'insert':\n",
    "        # これらは純粋な挿入行と考えられる可能性が高い\n",
    "        inserted_lines.extend(new_lines[j1:j2])\n",
    "    elif tag == 'replace':\n",
    "        old_block = old_lines[i1:i2]\n",
    "        new_block = new_lines[j1:j2]\n",
    "        # 各new_block行について、old_block行との類似度計算\n",
    "        for nl in new_block:\n",
    "            best_similarity = 0\n",
    "            for ol in old_block:\n",
    "                sim = SequenceMatcher(None, nl, ol).ratio()\n",
    "                if sim > best_similarity:\n",
    "                    best_similarity = sim\n",
    "            # 類似度が低ければ新規行と判断\n",
    "            if best_similarity < 0.6:  # 例: 0.7という閾値\n",
    "                suspected_new_lines.append(nl)\n",
    "\n",
    "# 最終的な新規行候補 = inserted_lines + suspected_new_lines\n",
    "final_new_lines = inserted_lines + suspected_new_lines\n",
    "final_new_lines.sort()\n",
    "\n",
    "with open('_2017年版PEJVOと2024年版(最新版)PEJVOの新增内容比较結果_類似度0.6.txt', 'w', encoding='utf-8') as f:\n",
    "    for line in final_new_lines:\n",
    "        f.write(line + '\\n')\n",
    "\n",
    "print(len(final_new_lines))\n"
   ]
  }
 ],
 "metadata": {
  "kernelspec": {
   "display_name": "base",
   "language": "python",
   "name": "python3"
  },
  "language_info": {
   "codemirror_mode": {
    "name": "ipython",
    "version": 3
   },
   "file_extension": ".py",
   "mimetype": "text/x-python",
   "name": "python",
   "nbconvert_exporter": "python",
   "pygments_lexer": "ipython3",
   "version": "3.8.18"
  }
 },
 "nbformat": 4,
 "nbformat_minor": 2
}
